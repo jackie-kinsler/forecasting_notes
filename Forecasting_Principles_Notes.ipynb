{
 "cells": [
  {
   "cell_type": "markdown",
   "id": "83bf7190",
   "metadata": {},
   "source": [
    "Forecasting is about predicting the future as accurately as possible, given the information we have \n",
    "\n",
    "Things that make forecasting more accurate: \n",
    "- Having a good understanding of contributing factors \n",
    "- Availability of data. More historic data = better \n",
    "- Likelihood that things will continue to behave similarly \n",
    "- Whether forecasts are very dependent on consumer behavior\n",
    "\n"
   ]
  },
  {
   "cell_type": "code",
   "execution_count": null,
   "id": "7ed25ea1",
   "metadata": {},
   "outputs": [],
   "source": []
  }
 ],
 "metadata": {
  "kernelspec": {
   "display_name": "Python 3 (ipykernel)",
   "language": "python",
   "name": "python3"
  },
  "language_info": {
   "codemirror_mode": {
    "name": "ipython",
    "version": 3
   },
   "file_extension": ".py",
   "mimetype": "text/x-python",
   "name": "python",
   "nbconvert_exporter": "python",
   "pygments_lexer": "ipython3",
   "version": "3.9.13"
  }
 },
 "nbformat": 4,
 "nbformat_minor": 5
}
